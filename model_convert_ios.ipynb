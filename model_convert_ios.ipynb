{
 "cells": [
  {
   "cell_type": "code",
   "execution_count": 1,
   "metadata": {},
   "outputs": [
    {
     "name": "stdout",
     "output_type": "stream",
     "text": [
      "Requirement already satisfied: onnx in /Users/ramin/miniconda3/envs/ramin_conda/lib/python3.9/site-packages (1.8.0)\n",
      "Requirement already satisfied: protobuf in /Users/ramin/miniconda3/envs/ramin_conda/lib/python3.9/site-packages (from onnx) (3.13.0)\n",
      "Requirement already satisfied: numpy in /Users/ramin/miniconda3/envs/ramin_conda/lib/python3.9/site-packages (from onnx) (1.19.4)\n",
      "Requirement already satisfied: typing-extensions>=3.6.2.1 in /Users/ramin/miniconda3/envs/ramin_conda/lib/python3.9/site-packages (from onnx) (3.7.4.3)\n",
      "Requirement already satisfied: six in /Users/ramin/miniconda3/envs/ramin_conda/lib/python3.9/site-packages (from onnx) (1.15.0)\n",
      "Requirement already satisfied: setuptools in /Users/ramin/miniconda3/envs/ramin_conda/lib/python3.9/site-packages (from protobuf->onnx) (51.0.0.post20201207)\n",
      "Requirement already satisfied: onnx_coreml in /Users/ramin/miniconda3/envs/ramin_conda/lib/python3.9/site-packages (1.3)\n",
      "Requirement already satisfied: click in /Users/ramin/miniconda3/envs/ramin_conda/lib/python3.9/site-packages (from onnx_coreml) (7.1.2)\n",
      "Requirement already satisfied: onnx>=1.5.0 in /Users/ramin/miniconda3/envs/ramin_conda/lib/python3.9/site-packages (from onnx_coreml) (1.8.0)\n",
      "Requirement already satisfied: numpy in /Users/ramin/miniconda3/envs/ramin_conda/lib/python3.9/site-packages (from onnx_coreml) (1.19.4)\n",
      "Requirement already satisfied: coremltools>=3.2 in /Users/ramin/miniconda3/envs/ramin_conda/lib/python3.9/site-packages (from onnx_coreml) (4.0)\n",
      "Requirement already satisfied: typing>=3.6.4 in /Users/ramin/miniconda3/envs/ramin_conda/lib/python3.9/site-packages (from onnx_coreml) (3.7.4.3)\n",
      "Requirement already satisfied: sympy in /Users/ramin/miniconda3/envs/ramin_conda/lib/python3.9/site-packages (from onnx_coreml) (1.7.1)\n",
      "Requirement already satisfied: typing-extensions>=3.6.2.1 in /Users/ramin/miniconda3/envs/ramin_conda/lib/python3.9/site-packages (from onnx_coreml) (3.7.4.3)\n",
      "Requirement already satisfied: protobuf>=3.1.0 in /Users/ramin/miniconda3/envs/ramin_conda/lib/python3.9/site-packages (from coremltools>=3.2->onnx_coreml) (3.13.0)\n",
      "Requirement already satisfied: attrs in /Users/ramin/miniconda3/envs/ramin_conda/lib/python3.9/site-packages (from coremltools>=3.2->onnx_coreml) (20.3.0)\n",
      "Requirement already satisfied: scipy in /Users/ramin/miniconda3/envs/ramin_conda/lib/python3.9/site-packages (from coremltools>=3.2->onnx_coreml) (1.5.4)\n",
      "Requirement already satisfied: attr in /Users/ramin/miniconda3/envs/ramin_conda/lib/python3.9/site-packages (from coremltools>=3.2->onnx_coreml) (0.3.1)\n",
      "Requirement already satisfied: packaging in /Users/ramin/miniconda3/envs/ramin_conda/lib/python3.9/site-packages (from coremltools>=3.2->onnx_coreml) (20.8)\n",
      "Requirement already satisfied: six>=1.10.0 in /Users/ramin/miniconda3/envs/ramin_conda/lib/python3.9/site-packages (from coremltools>=3.2->onnx_coreml) (1.15.0)\n",
      "Requirement already satisfied: tqdm in /Users/ramin/miniconda3/envs/ramin_conda/lib/python3.9/site-packages (from coremltools>=3.2->onnx_coreml) (4.54.1)\n",
      "Requirement already satisfied: setuptools in /Users/ramin/miniconda3/envs/ramin_conda/lib/python3.9/site-packages (from protobuf>=3.1.0->coremltools>=3.2->onnx_coreml) (51.0.0.post20201207)\n",
      "Requirement already satisfied: pyparsing>=2.0.2 in /Users/ramin/miniconda3/envs/ramin_conda/lib/python3.9/site-packages (from packaging->coremltools>=3.2->onnx_coreml) (2.4.7)\n",
      "Requirement already satisfied: mpmath>=0.19 in /Users/ramin/miniconda3/envs/ramin_conda/lib/python3.9/site-packages (from sympy->onnx_coreml) (1.1.0)\n"
     ]
    }
   ],
   "source": [
    "!pip3 install onnx\n",
    "!pip3 install onnx_coreml\n",
    "\n",
    "\n",
    "from fastai.vision import *"
   ]
  },
  {
   "cell_type": "code",
   "execution_count": null,
   "metadata": {},
   "outputs": [],
   "source": [
    "#hide\n",
    "!pip3 install -Uqq fastbook\n",
    "import fastbook\n",
    "fastbook.setup_book()"
   ]
  },
  {
   "cell_type": "code",
   "execution_count": 1,
   "metadata": {},
   "outputs": [],
   "source": [
    "!pip3 install -Uqq fastbook"
   ]
  },
  {
   "cell_type": "code",
   "execution_count": null,
   "metadata": {},
   "outputs": [],
   "source": [
    "import fastbook"
   ]
  },
  {
   "cell_type": "code",
   "execution_count": 1,
   "metadata": {},
   "outputs": [
    {
     "ename": "NameError",
     "evalue": "name 'fastbook' is not defined",
     "output_type": "error",
     "traceback": [
      "\u001b[0;31m---------------------------------------------------------------------------\u001b[0m",
      "\u001b[0;31mNameError\u001b[0m                                 Traceback (most recent call last)",
      "\u001b[0;32m<ipython-input-1-fce0e354ba4c>\u001b[0m in \u001b[0;36m<module>\u001b[0;34m\u001b[0m\n\u001b[0;32m----> 1\u001b[0;31m \u001b[0mfastbook\u001b[0m\u001b[0;34m.\u001b[0m\u001b[0msetup_book\u001b[0m\u001b[0;34m(\u001b[0m\u001b[0;34m)\u001b[0m\u001b[0;34m\u001b[0m\u001b[0;34m\u001b[0m\u001b[0m\n\u001b[0m",
      "\u001b[0;31mNameError\u001b[0m: name 'fastbook' is not defined"
     ]
    }
   ],
   "source": [
    "fastbook.setup_book()"
   ]
  },
  {
   "cell_type": "code",
   "execution_count": null,
   "metadata": {},
   "outputs": [],
   "source": [
    "from fastai.vision.all import *\n",
    "from fastai.vision.widgets import *"
   ]
  },
  {
   "cell_type": "code",
   "execution_count": null,
   "metadata": {},
   "outputs": [],
   "source": []
  }
 ],
 "metadata": {
  "kernelspec": {
   "display_name": "Python 3",
   "language": "python",
   "name": "python3"
  },
  "language_info": {
   "codemirror_mode": {
    "name": "ipython",
    "version": 3
   },
   "file_extension": ".py",
   "mimetype": "text/x-python",
   "name": "python",
   "nbconvert_exporter": "python",
   "pygments_lexer": "ipython3",
   "version": "3.9.1"
  }
 },
 "nbformat": 4,
 "nbformat_minor": 4
}
